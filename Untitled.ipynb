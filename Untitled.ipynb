{
 "cells": [
  {
   "cell_type": "code",
   "execution_count": 6,
   "id": "536563e1",
   "metadata": {},
   "outputs": [
    {
     "name": "stdout",
     "output_type": "stream",
     "text": [
      "    Dry Mass (Kilograms) Official Name of Satellite\n",
      "217                    1             Cubesat XI-IV \n",
      "159          1,050 (BOL)              Brazilsat B-3\n",
      "158          1,050 (BOL)              Brazilsat B-2\n",
      "160          1,050 (BOL)              Brazilsat B-4\n",
      "569          1,500-1,900                  Helios 2A\n"
     ]
    },
    {
     "data": {
      "text/plain": [
       "<BarContainer object of 5 artists>"
      ]
     },
     "execution_count": 6,
     "metadata": {},
     "output_type": "execute_result"
    },
    {
     "data": {
      "image/png": "[encoded data removed]",
      "text/plain": [
       "<Figure size 432x288 with 1 Axes>"
      ]
     },
     "metadata": {
      "needs_background": "light"
     },
     "output_type": "display_data"
    }
   ],
   "source": [
    "import pandas as pd\n",
    "from matplotlib import pyplot as plt\n",
    "\n",
    "dataframe = pd.read_csv('C191_satellite_data.csv')\n",
    "\n",
    "dataframe\n",
    "\n",
    "df = pd.DataFrame(dataframe, columns =['Dry Mass (Kilograms)','Official Name of Satellite'])\n",
    "df.replace(\" \", float(\"NaN\"), inplace=True)\n",
    "\n",
    "df = df.dropna()\n",
    "\n",
    "sorted_df = df.sort_values(by=['Dry Mass (Kilograms)'])\n",
    "sorted_df\n",
    "\n",
    "heavy_satellite_5 = sorted_df.head(5)\n",
    "print(heavy_satellite_5)\n",
    "\n",
    "name = heavy_satellite_5['Official Name of Satellite']\n",
    "weight = heavy_satellite_5['Dry Mass (Kilograms)']\n",
    "\n",
    "plt.xlabel(\"Official Name of Satellite\")\n",
    "plt.xticks(rotation='vertical')\n",
    "plt.ylabel(\"Mass (Kilograms)\")\n",
    "\n",
    "\n",
    "label = name\n",
    "value = weight \n",
    "plt.bar(label, value,width=0.4, color=('red','yellow','green','pink','blue')) #bar-grap\n"
   ]
  },
  {
   "cell_type": "code",
   "execution_count": null,
   "id": "cb92fb15",
   "metadata": {},
   "outputs": [],
   "source": []
  },
  {
   "cell_type": "code",
   "execution_count": null,
   "id": "bbb82bf7",
   "metadata": {},
   "outputs": [],
   "source": []
  }
 ],
 "metadata": {
  "kernelspec": {
   "display_name": "Python 3 (ipykernel)",
   "language": "python",
   "name": "python3"
  },
  "language_info": {
   "codemirror_mode": {
    "name": "ipython",
    "version": 3
   },
   "file_extension": ".py",
   "mimetype": "text/x-python",
   "name": "python",
   "nbconvert_exporter": "python",
   "pygments_lexer": "ipython3",
   "version": "3.9.12"
  }
 },
 "nbformat": 4,
 "nbformat_minor": 5
}
